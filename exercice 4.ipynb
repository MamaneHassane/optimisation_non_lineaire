{
 "cells": [
  {
   "metadata": {},
   "cell_type": "markdown",
   "source": [
    "import numpy as np\n",
    "import matplotlib.pyplot as plt\n",
    "\n",
    "Exercice 4\n"
   ],
   "id": "58d9eb1b2ecce60b"
  },
  {
   "metadata": {},
   "cell_type": "code",
   "outputs": [],
   "execution_count": null,
   "source": [
    "import numpy as np\n",
    "\n",
    "\n",
    "def f(x1, x2):\n",
    "    return 9 + 24*x1 - 2*x2 + 3*x1**2 + 2*x1*x2 + 2*x2**2"
   ],
   "id": "d84bd808ce6fe731"
  },
  {
   "metadata": {},
   "cell_type": "code",
   "outputs": [],
   "execution_count": null,
   "source": [
    "def gradient1(f, x, h=1e-5):\n",
    "    df_dx = (f(x+h) - f(x)) / h\n",
    "    return df_dx"
   ],
   "id": "a0df4d15e283ddc8"
  },
  {
   "metadata": {},
   "cell_type": "code",
   "outputs": [],
   "execution_count": null,
   "source": [
    "def hessien_1_variable(f):\n",
    "    pass"
   ],
   "id": "87dedd9fc26eb341"
  },
  {
   "metadata": {},
   "cell_type": "code",
   "outputs": [],
   "execution_count": null,
   "source": [
    "def gradient_2_variables(f, x, h=1e-5):\n",
    "    df_dx1 = (f(x[0]+h, x[1]) - f(x[0], x[1])) / h\n",
    "    df_dx2 = (f(x[0], x[1]+h) - f(x[0], x[1])) / h\n",
    "    return np.array([df_dx1, df_dx2])"
   ],
   "id": "edb6642ee45b4262"
  },
  {
   "metadata": {},
   "cell_type": "code",
   "outputs": [],
   "execution_count": null,
   "source": [
    "def hessien_2_variables(f, x, h=1e-5):\n",
    "    pass"
   ],
   "id": "15038056dcc12465"
  }
 ],
 "metadata": {
  "kernelspec": {
   "display_name": "Python 3",
   "language": "python",
   "name": "python3"
  },
  "language_info": {
   "codemirror_mode": {
    "name": "ipython",
    "version": 2
   },
   "file_extension": ".py",
   "mimetype": "text/x-python",
   "name": "python",
   "nbconvert_exporter": "python",
   "pygments_lexer": "ipython2",
   "version": "2.7.6"
  }
 },
 "nbformat": 4,
 "nbformat_minor": 5
}
