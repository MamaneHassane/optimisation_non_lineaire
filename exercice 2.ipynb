{
 "cells": [
  {
   "cell_type": "code",
   "execution_count": null,
   "id": "initial_id",
   "metadata": {
    "collapsed": true
   },
   "outputs": [],
   "source": [
    "import numpy as np\n",
    "import matplotlib.pyplot as plt"
   ]
  },
  {
   "metadata": {},
   "cell_type": "markdown",
   "source": "Exercice 2",
   "id": "217be5f9240c7efa"
  },
  {
   "metadata": {},
   "cell_type": "code",
   "outputs": [],
   "execution_count": null,
   "source": [
    "def gradient_quadratic(A, b, x):\n",
    "    return np.dot(A, x) + b\n",
    "\n",
    "\n",
    "def hessian_quadratic(A):\n",
    "    return A\n",
    "\n",
    "\n",
    "def quadratic_optimum(A, b):\n",
    "    return -np.linalg.solve(A, b)\n",
    "\n",
    "\n",
    "A = np.array([[5, -2, 1], [-2, 6, 4], [1, 4, 5]])\n",
    "b = -2 * np.array([4, 12, 12])\n",
    "x_opt = quadratic_optimum(A, b)\n",
    "print(\"Optimum local :\", x_opt)"
   ],
   "id": "c8a4eebf8d9c5af1"
  }
 ],
 "metadata": {
  "kernelspec": {
   "display_name": "Python 3",
   "language": "python",
   "name": "python3"
  },
  "language_info": {
   "codemirror_mode": {
    "name": "ipython",
    "version": 2
   },
   "file_extension": ".py",
   "mimetype": "text/x-python",
   "name": "python",
   "nbconvert_exporter": "python",
   "pygments_lexer": "ipython2",
   "version": "2.7.6"
  }
 },
 "nbformat": 4,
 "nbformat_minor": 5
}
