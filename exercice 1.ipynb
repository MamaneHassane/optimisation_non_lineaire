{
 "cells": [
  {
   "metadata": {
    "ExecuteTime": {
     "end_time": "2024-12-19T11:07:38.839251Z",
     "start_time": "2024-12-19T11:07:38.292608Z"
    }
   },
   "cell_type": "code",
   "source": [
    "import numpy as np\n",
    "import matplotlib.pyplot as plt"
   ],
   "id": "7d803205c4347a55",
   "outputs": [],
   "execution_count": 1
  },
  {
   "metadata": {},
   "cell_type": "markdown",
   "source": "Exercice 1",
   "id": "79fd6145f14304fb"
  },
  {
   "metadata": {
    "ExecuteTime": {
     "end_time": "2024-12-19T11:07:38.847234Z",
     "start_time": "2024-12-19T11:07:38.844333Z"
    }
   },
   "cell_type": "code",
   "source": [
    "def gradient_f1(x):\n",
    "    return np.exp(x)\n",
    "\n",
    "def hessian_f1(x):\n",
    "    return np.exp(x)"
   ],
   "id": "ff2824833821af17",
   "outputs": [],
   "execution_count": 2
  },
  {
   "metadata": {
    "ExecuteTime": {
     "end_time": "2024-12-19T11:07:39.120536Z",
     "start_time": "2024-12-19T11:07:39.118225Z"
    }
   },
   "cell_type": "code",
   "source": [
    "def gradient_f2(x):\n",
    "    return 1 / x\n",
    "\n",
    "def hessian_f2(x):\n",
    "    return -1 / (x**2)"
   ],
   "id": "94ad537175cf3e00",
   "outputs": [],
   "execution_count": 3
  },
  {
   "metadata": {
    "ExecuteTime": {
     "end_time": "2024-12-19T11:07:39.163321Z",
     "start_time": "2024-12-19T11:07:39.160831Z"
    }
   },
   "cell_type": "code",
   "source": [
    "def gradient_f3(x):\n",
    "    exp_x = np.exp(x)\n",
    "    return exp_x / np.sum(exp_x)\n",
    "\n",
    "def hessian_f3(x):\n",
    "    exp_x = np.exp(x)\n",
    "    s = np.sum(exp_x)\n",
    "    return np.diag(exp_x / s) - np.outer(exp_x, exp_x) / (s**2)\n"
   ],
   "id": "fc8c795f2690833d",
   "outputs": [],
   "execution_count": 4
  },
  {
   "metadata": {
    "ExecuteTime": {
     "end_time": "2024-12-19T11:07:39.209285Z",
     "start_time": "2024-12-19T11:07:39.207009Z"
    }
   },
   "cell_type": "code",
   "source": [
    "def gradient_f4(c):\n",
    "    return c\n",
    "\n",
    "def hessian_f4(n):\n",
    "    return np.zeros((n, n))"
   ],
   "id": "9f7d3334688361d6",
   "outputs": [],
   "execution_count": 5
  },
  {
   "metadata": {
    "ExecuteTime": {
     "end_time": "2024-12-19T11:07:39.254868Z",
     "start_time": "2024-12-19T11:07:39.252316Z"
    }
   },
   "cell_type": "code",
   "source": [
    "def gradient_f5(Q, c, x):\n",
    "    return 2 * np.dot(Q, x) + c\n",
    "\n",
    "def hessian_f5(Q):\n",
    "    return 2 * Q"
   ],
   "id": "15756e524e0ff311",
   "outputs": [],
   "execution_count": 6
  }
 ],
 "metadata": {
  "kernelspec": {
   "display_name": "Python 3",
   "language": "python",
   "name": "python3"
  },
  "language_info": {
   "codemirror_mode": {
    "name": "ipython",
    "version": 2
   },
   "file_extension": ".py",
   "mimetype": "text/x-python",
   "name": "python",
   "nbconvert_exporter": "python",
   "pygments_lexer": "ipython2",
   "version": "2.7.6"
  }
 },
 "nbformat": 4,
 "nbformat_minor": 5
}
