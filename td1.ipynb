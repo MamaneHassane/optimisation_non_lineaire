{
 "cells": [
  {
   "metadata": {
    "ExecuteTime": {
     "end_time": "2024-12-19T11:04:01.491692Z",
     "start_time": "2024-12-19T11:04:00.980693Z"
    }
   },
   "cell_type": "code",
   "source": [
    "import numpy as np\n",
    "import matplotlib.pyplot as plt"
   ],
   "id": "2e0c6668d4cb970d",
   "outputs": [],
   "execution_count": 1
  },
  {
   "metadata": {},
   "cell_type": "markdown",
   "source": "Exercice 1",
   "id": "566b3fbd0b54765"
  },
  {
   "cell_type": "code",
   "id": "initial_id",
   "metadata": {
    "collapsed": true,
    "ExecuteTime": {
     "end_time": "2024-12-19T11:04:01.497833Z",
     "start_time": "2024-12-19T11:04:01.495539Z"
    }
   },
   "source": [
    "def gradient_f1(x):\n",
    "    return np.exp(x)\n",
    "\n",
    "def hessian_f1(x):\n",
    "    return np.exp(x)"
   ],
   "outputs": [],
   "execution_count": 2
  },
  {
   "metadata": {
    "ExecuteTime": {
     "end_time": "2024-12-19T11:04:13.500877Z",
     "start_time": "2024-12-19T11:04:13.498482Z"
    }
   },
   "cell_type": "code",
   "source": [
    "def gradient_f2(x):\n",
    "    return 1 / x\n",
    "\n",
    "def hessian_f2(x):\n",
    "    return -1 / (x**2)"
   ],
   "id": "5de272f87a79c6cd",
   "outputs": [],
   "execution_count": 3
  },
  {
   "metadata": {},
   "cell_type": "code",
   "outputs": [],
   "execution_count": null,
   "source": [
    "def gradient_f3(x):\n",
    "    exp_x = np.exp(x)\n",
    "    return exp_x / np.sum(exp_x)\n",
    "\n",
    "def hessian_f3(x):\n",
    "    exp_x = np.exp(x)\n",
    "    s = np.sum(exp_x)\n",
    "    return np.diag(exp_x / s) - np.outer(exp_x, exp_x) / (s**2)\n"
   ],
   "id": "39e7165802f5894e"
  },
  {
   "metadata": {},
   "cell_type": "code",
   "outputs": [],
   "execution_count": null,
   "source": [
    "def gradient_f4(c):\n",
    "    return c\n",
    "\n",
    "def hessian_f4(n):\n",
    "    return np.zeros((n, n))"
   ],
   "id": "1c500f4f6fef8a36"
  },
  {
   "metadata": {},
   "cell_type": "code",
   "outputs": [],
   "execution_count": null,
   "source": [
    "def gradient_f5(Q, c, x):\n",
    "    return 2 * np.dot(Q, x) + c\n",
    "\n",
    "def hessian_f5(Q):\n",
    "    return 2 * Q"
   ],
   "id": "ddd5cb96d4707f7f"
  },
  {
   "metadata": {},
   "cell_type": "markdown",
   "source": "Exercice 2",
   "id": "f7dfc52bee180f90"
  },
  {
   "metadata": {},
   "cell_type": "code",
   "outputs": [],
   "execution_count": null,
   "source": [
    "def gradient_quadratic(A, b, x):\n",
    "    return np.dot(A, x) + b\n",
    "\n",
    "def hessian_quadratic(A):\n",
    "    return A"
   ],
   "id": "ade20c617158076b"
  },
  {
   "metadata": {},
   "cell_type": "code",
   "outputs": [],
   "execution_count": null,
   "source": [
    "def quadratic_optimum(A, b):\n",
    "    return -np.linalg.solve(A, b)"
   ],
   "id": "5a63bc5753dac7d5"
  },
  {
   "metadata": {},
   "cell_type": "code",
   "outputs": [],
   "execution_count": null,
   "source": [
    "A = np.array([[5, -2, 1], [-2, 6, 4], [1, 4, 5]])\n",
    "b = -2 * np.array([4, 12, 12])\n",
    "x_opt = quadratic_optimum(A, b)\n",
    "print(\"Optimum local :\", x_opt)\n"
   ],
   "id": "dfc6fd1e13bdeb1f"
  }
 ],
 "metadata": {
  "kernelspec": {
   "display_name": "Python 3",
   "language": "python",
   "name": "python3"
  },
  "language_info": {
   "codemirror_mode": {
    "name": "ipython",
    "version": 2
   },
   "file_extension": ".py",
   "mimetype": "text/x-python",
   "name": "python",
   "nbconvert_exporter": "python",
   "pygments_lexer": "ipython2",
   "version": "2.7.6"
  }
 },
 "nbformat": 4,
 "nbformat_minor": 5
}
